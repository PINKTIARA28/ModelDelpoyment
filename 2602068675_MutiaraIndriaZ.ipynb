{
 "cells": [
  {
   "cell_type": "code",
   "execution_count": 18,
   "id": "2e5685fe",
   "metadata": {},
   "outputs": [],
   "source": [
    "import pandas as pd\n",
    "import numpy as np\n",
    "import matplotlib.pyplot as plt\n",
    "import seaborn as sns\n"
   ]
  },
  {
   "cell_type": "code",
   "execution_count": 58,
   "id": "ce760aca",
   "metadata": {},
   "outputs": [],
   "source": [
    "df = pd.read_csv(\"C:\\\\Users\\\\mutia\\\\data_B.csv\")\n"
   ]
  },
  {
   "cell_type": "code",
   "execution_count": 20,
   "id": "8f8d5899",
   "metadata": {
    "scrolled": false
   },
   "outputs": [
    {
     "data": {
      "text/html": [
       "<div>\n",
       "<style scoped>\n",
       "    .dataframe tbody tr th:only-of-type {\n",
       "        vertical-align: middle;\n",
       "    }\n",
       "\n",
       "    .dataframe tbody tr th {\n",
       "        vertical-align: top;\n",
       "    }\n",
       "\n",
       "    .dataframe thead th {\n",
       "        text-align: right;\n",
       "    }\n",
       "</style>\n",
       "<table border=\"1\" class=\"dataframe\">\n",
       "  <thead>\n",
       "    <tr style=\"text-align: right;\">\n",
       "      <th></th>\n",
       "      <th>Unnamed: 0</th>\n",
       "      <th>id</th>\n",
       "      <th>CustomerId</th>\n",
       "      <th>Surname</th>\n",
       "      <th>CreditScore</th>\n",
       "      <th>Geography</th>\n",
       "      <th>Gender</th>\n",
       "      <th>Age</th>\n",
       "      <th>Tenure</th>\n",
       "      <th>Balance</th>\n",
       "      <th>NumOfProducts</th>\n",
       "      <th>HasCrCard</th>\n",
       "      <th>IsActiveMember</th>\n",
       "      <th>EstimatedSalary</th>\n",
       "      <th>churn</th>\n",
       "    </tr>\n",
       "  </thead>\n",
       "  <tbody>\n",
       "    <tr>\n",
       "      <th>0</th>\n",
       "      <td>0</td>\n",
       "      <td>37969</td>\n",
       "      <td>15780804</td>\n",
       "      <td>Ugorji</td>\n",
       "      <td>850.0</td>\n",
       "      <td>France</td>\n",
       "      <td>Male</td>\n",
       "      <td>42.0</td>\n",
       "      <td>5</td>\n",
       "      <td>0.00</td>\n",
       "      <td>2</td>\n",
       "      <td>1</td>\n",
       "      <td>1</td>\n",
       "      <td>105560.01</td>\n",
       "      <td>0</td>\n",
       "    </tr>\n",
       "    <tr>\n",
       "      <th>1</th>\n",
       "      <td>1</td>\n",
       "      <td>121427</td>\n",
       "      <td>15593974</td>\n",
       "      <td>Dickson</td>\n",
       "      <td>597.0</td>\n",
       "      <td>Germany</td>\n",
       "      <td>Male</td>\n",
       "      <td>46.0</td>\n",
       "      <td>9</td>\n",
       "      <td>112291.06</td>\n",
       "      <td>2</td>\n",
       "      <td>1</td>\n",
       "      <td>1</td>\n",
       "      <td>47410.06</td>\n",
       "      <td>0</td>\n",
       "    </tr>\n",
       "    <tr>\n",
       "      <th>2</th>\n",
       "      <td>2</td>\n",
       "      <td>151801</td>\n",
       "      <td>15655274</td>\n",
       "      <td>Teng</td>\n",
       "      <td>637.0</td>\n",
       "      <td>Germany</td>\n",
       "      <td>Male</td>\n",
       "      <td>35.0</td>\n",
       "      <td>3</td>\n",
       "      <td>145974.79</td>\n",
       "      <td>2</td>\n",
       "      <td>1</td>\n",
       "      <td>0</td>\n",
       "      <td>180934.67</td>\n",
       "      <td>0</td>\n",
       "    </tr>\n",
       "    <tr>\n",
       "      <th>3</th>\n",
       "      <td>3</td>\n",
       "      <td>149981</td>\n",
       "      <td>15645404</td>\n",
       "      <td>McWilliams</td>\n",
       "      <td>695.0</td>\n",
       "      <td>France</td>\n",
       "      <td>Male</td>\n",
       "      <td>39.0</td>\n",
       "      <td>8</td>\n",
       "      <td>0.00</td>\n",
       "      <td>1</td>\n",
       "      <td>1</td>\n",
       "      <td>0</td>\n",
       "      <td>162669.73</td>\n",
       "      <td>0</td>\n",
       "    </tr>\n",
       "    <tr>\n",
       "      <th>4</th>\n",
       "      <td>4</td>\n",
       "      <td>115198</td>\n",
       "      <td>15625881</td>\n",
       "      <td>Yobachi</td>\n",
       "      <td>695.0</td>\n",
       "      <td>France</td>\n",
       "      <td>Female</td>\n",
       "      <td>29.0</td>\n",
       "      <td>0</td>\n",
       "      <td>109109.89</td>\n",
       "      <td>1</td>\n",
       "      <td>1</td>\n",
       "      <td>0</td>\n",
       "      <td>120770.80</td>\n",
       "      <td>0</td>\n",
       "    </tr>\n",
       "  </tbody>\n",
       "</table>\n",
       "</div>"
      ],
      "text/plain": [
       "   Unnamed: 0      id  CustomerId     Surname  CreditScore Geography  Gender  \\\n",
       "0           0   37969    15780804      Ugorji        850.0    France    Male   \n",
       "1           1  121427    15593974     Dickson        597.0   Germany    Male   \n",
       "2           2  151801    15655274        Teng        637.0   Germany    Male   \n",
       "3           3  149981    15645404  McWilliams        695.0    France    Male   \n",
       "4           4  115198    15625881     Yobachi        695.0    France  Female   \n",
       "\n",
       "    Age  Tenure    Balance  NumOfProducts  HasCrCard  IsActiveMember  \\\n",
       "0  42.0       5       0.00              2          1               1   \n",
       "1  46.0       9  112291.06              2          1               1   \n",
       "2  35.0       3  145974.79              2          1               0   \n",
       "3  39.0       8       0.00              1          1               0   \n",
       "4  29.0       0  109109.89              1          1               0   \n",
       "\n",
       "   EstimatedSalary  churn  \n",
       "0        105560.01      0  \n",
       "1         47410.06      0  \n",
       "2        180934.67      0  \n",
       "3        162669.73      0  \n",
       "4        120770.80      0  "
      ]
     },
     "execution_count": 20,
     "metadata": {},
     "output_type": "execute_result"
    }
   ],
   "source": [
    "df.head()"
   ]
  },
  {
   "cell_type": "markdown",
   "id": "b0602bcc",
   "metadata": {},
   "source": [
    "Saya akan mengencoding Geography, Gender. \n",
    "Kemungkinan saya akan menghapus kolom Unamed: 0 karena tidak relevant \n",
    "Saya juga akan menghapus colom id dan CustomerID"
   ]
  },
  {
   "cell_type": "code",
   "execution_count": 9,
   "id": "94d33b3b",
   "metadata": {},
   "outputs": [
    {
     "data": {
      "text/plain": [
       "(41259, 15)"
      ]
     },
     "execution_count": 9,
     "metadata": {},
     "output_type": "execute_result"
    }
   ],
   "source": [
    "df.shape"
   ]
  },
  {
   "cell_type": "code",
   "execution_count": 11,
   "id": "4b5394c2",
   "metadata": {},
   "outputs": [
    {
     "data": {
      "text/plain": [
       "Index(['Unnamed: 0', 'id', 'CustomerId', 'Surname', 'CreditScore', 'Geography',\n",
       "       'Gender', 'Age', 'Tenure', 'Balance', 'NumOfProducts', 'HasCrCard',\n",
       "       'IsActiveMember', 'EstimatedSalary', 'churn'],\n",
       "      dtype='object')"
      ]
     },
     "execution_count": 11,
     "metadata": {},
     "output_type": "execute_result"
    }
   ],
   "source": [
    "df.columns"
   ]
  },
  {
   "cell_type": "code",
   "execution_count": 31,
   "id": "e3ee7a7e",
   "metadata": {},
   "outputs": [
    {
     "data": {
      "text/plain": [
       "Hsia      608\n",
       "T'ien     585\n",
       "Hs?       399\n",
       "Kao       392\n",
       "P'eng     380\n",
       "         ... \n",
       "Levien      1\n",
       "Dowse       1\n",
       "Moen        1\n",
       "Avent       1\n",
       "Stehle      1\n",
       "Name: Surname, Length: 2299, dtype: int64"
      ]
     },
     "execution_count": 31,
     "metadata": {},
     "output_type": "execute_result"
    }
   ],
   "source": [
    "df['Surname'].value_counts()"
   ]
  },
  {
   "cell_type": "markdown",
   "id": "94b2170d",
   "metadata": {},
   "source": [
    "Saya memutuskan untuk menghapus kolom ini karena nama tidak berpengaruh terhadap churn"
   ]
  },
  {
   "cell_type": "code",
   "execution_count": 13,
   "id": "613ece53",
   "metadata": {},
   "outputs": [
    {
     "data": {
      "text/plain": [
       "0        1\n",
       "27479    1\n",
       "27501    1\n",
       "27502    1\n",
       "27503    1\n",
       "        ..\n",
       "13754    1\n",
       "13755    1\n",
       "13756    1\n",
       "13757    1\n",
       "41258    1\n",
       "Name: Unnamed: 0, Length: 41259, dtype: int64"
      ]
     },
     "execution_count": 13,
     "metadata": {},
     "output_type": "execute_result"
    }
   ],
   "source": [
    "df['Unnamed: 0'].value_counts()"
   ]
  },
  {
   "cell_type": "markdown",
   "id": "d875259a",
   "metadata": {},
   "source": [
    "dari sini terlihat bahwa variable ini tidak dibutuhkan. Maka saya akan menghapusnya"
   ]
  },
  {
   "cell_type": "code",
   "execution_count": 12,
   "id": "e78fb411",
   "metadata": {},
   "outputs": [
    {
     "name": "stdout",
     "output_type": "stream",
     "text": [
      "<class 'pandas.core.frame.DataFrame'>\n",
      "RangeIndex: 41259 entries, 0 to 41258\n",
      "Data columns (total 15 columns):\n",
      " #   Column           Non-Null Count  Dtype  \n",
      "---  ------           --------------  -----  \n",
      " 0   Unnamed: 0       41259 non-null  int64  \n",
      " 1   id               41259 non-null  int64  \n",
      " 2   CustomerId       41259 non-null  int64  \n",
      " 3   Surname          41259 non-null  object \n",
      " 4   CreditScore      41251 non-null  float64\n",
      " 5   Geography        41259 non-null  object \n",
      " 6   Gender           41259 non-null  object \n",
      " 7   Age              41259 non-null  float64\n",
      " 8   Tenure           41259 non-null  int64  \n",
      " 9   Balance          41259 non-null  float64\n",
      " 10  NumOfProducts    41259 non-null  int64  \n",
      " 11  HasCrCard        41259 non-null  int64  \n",
      " 12  IsActiveMember   41259 non-null  int64  \n",
      " 13  EstimatedSalary  41259 non-null  float64\n",
      " 14  churn            41259 non-null  int64  \n",
      "dtypes: float64(4), int64(8), object(3)\n",
      "memory usage: 4.7+ MB\n"
     ]
    }
   ],
   "source": [
    "df.info()"
   ]
  },
  {
   "cell_type": "code",
   "execution_count": 21,
   "id": "3fd33b9b",
   "metadata": {},
   "outputs": [
    {
     "data": {
      "text/plain": [
       "Unnamed: 0         0\n",
       "id                 0\n",
       "CustomerId         0\n",
       "Surname            0\n",
       "CreditScore        8\n",
       "Geography          0\n",
       "Gender             0\n",
       "Age                0\n",
       "Tenure             0\n",
       "Balance            0\n",
       "NumOfProducts      0\n",
       "HasCrCard          0\n",
       "IsActiveMember     0\n",
       "EstimatedSalary    0\n",
       "churn              0\n",
       "dtype: int64"
      ]
     },
     "execution_count": 21,
     "metadata": {},
     "output_type": "execute_result"
    }
   ],
   "source": [
    "df.isnull().sum()"
   ]
  },
  {
   "cell_type": "markdown",
   "id": "1d4beae2",
   "metadata": {},
   "source": [
    "Terdapat Missing value pada CreditScore"
   ]
  },
  {
   "cell_type": "markdown",
   "id": "83b1b40a",
   "metadata": {},
   "source": [
    "cek apakah ada outlier pada Credit Score"
   ]
  },
  {
   "cell_type": "code",
   "execution_count": 15,
   "id": "8a8c6ea5",
   "metadata": {},
   "outputs": [
    {
     "data": {
      "image/png": "[encoded data removed]",
      "text/plain": [
       "<Figure size 576x432 with 1 Axes>"
      ]
     },
     "metadata": {
      "needs_background": "light"
     },
     "output_type": "display_data"
    }
   ],
   "source": [
    "plt.figure(figsize=(8, 6))\n",
    "sns.boxplot(x=df['CreditScore'])\n",
    "plt.title('Box Plot of CreditScore')\n",
    "plt.show()"
   ]
  },
  {
   "cell_type": "markdown",
   "id": "39a957cf",
   "metadata": {},
   "source": [
    "Terdapat outlier pada data, maka saya akan melakukan imputasi menggunakan median"
   ]
  },
  {
   "cell_type": "code",
   "execution_count": 46,
   "id": "2cc71a92",
   "metadata": {},
   "outputs": [],
   "source": [
    "df2=df.copy()"
   ]
  },
  {
   "cell_type": "code",
   "execution_count": 47,
   "id": "723bcb84",
   "metadata": {},
   "outputs": [],
   "source": [
    "df2f=df2.drop(columns=['Unnamed: 0'], inplace=True)\n",
    "df2f=df2.drop(columns=['Surname'], inplace=True)\n",
    "df2f=df2.drop(columns=['id'], inplace=True)\n",
    "df2f=df2.drop(columns=['CustomerId'], inplace=True)"
   ]
  },
  {
   "cell_type": "code",
   "execution_count": 48,
   "id": "39166e07",
   "metadata": {},
   "outputs": [
    {
     "name": "stdout",
     "output_type": "stream",
     "text": [
      "<class 'pandas.core.frame.DataFrame'>\n",
      "RangeIndex: 41259 entries, 0 to 41258\n",
      "Data columns (total 11 columns):\n",
      " #   Column           Non-Null Count  Dtype  \n",
      "---  ------           --------------  -----  \n",
      " 0   CreditScore      41251 non-null  float64\n",
      " 1   Geography        41259 non-null  object \n",
      " 2   Gender           41259 non-null  object \n",
      " 3   Age              41259 non-null  float64\n",
      " 4   Tenure           41259 non-null  int64  \n",
      " 5   Balance          41259 non-null  float64\n",
      " 6   NumOfProducts    41259 non-null  int64  \n",
      " 7   HasCrCard        41259 non-null  int64  \n",
      " 8   IsActiveMember   41259 non-null  int64  \n",
      " 9   EstimatedSalary  41259 non-null  float64\n",
      " 10  churn            41259 non-null  int64  \n",
      "dtypes: float64(4), int64(5), object(2)\n",
      "memory usage: 3.5+ MB\n"
     ]
    }
   ],
   "source": [
    "#periksa apakah kolom Unnamed: 0 sudah terhapus atau belum\n",
    "df2.info()"
   ]
  },
  {
   "cell_type": "code",
   "execution_count": 119,
   "id": "798964c3",
   "metadata": {},
   "outputs": [],
   "source": [
    "input_df=df2.drop('churn',axis=1)\n",
    "output_df=df2['churn']"
   ]
  },
  {
   "cell_type": "code",
   "execution_count": 120,
   "id": "6300a17d",
   "metadata": {},
   "outputs": [],
   "source": [
    "from sklearn.model_selection import train_test_split\n",
    "x_train, x_test, y_train, y_test = train_test_split(input_df, output_df, test_size = 0.2, random_state = 42)"
   ]
  },
  {
   "cell_type": "code",
   "execution_count": 121,
   "id": "ee73dc94",
   "metadata": {},
   "outputs": [
    {
     "name": "stdout",
     "output_type": "stream",
     "text": [
      "Missing values in x_train after imputation:\n",
      " CreditScore        0\n",
      "Geography          0\n",
      "Gender             0\n",
      "Age                0\n",
      "Tenure             0\n",
      "Balance            0\n",
      "NumOfProducts      0\n",
      "HasCrCard          0\n",
      "IsActiveMember     0\n",
      "EstimatedSalary    0\n",
      "dtype: int64\n",
      "Missing values in x_test after imputation:\n",
      " CreditScore        0\n",
      "Geography          0\n",
      "Gender             0\n",
      "Age                0\n",
      "Tenure             0\n",
      "Balance            0\n",
      "NumOfProducts      0\n",
      "HasCrCard          0\n",
      "IsActiveMember     0\n",
      "EstimatedSalary    0\n",
      "dtype: int64\n"
     ]
    }
   ],
   "source": [
    "credit_score_median = x_train['CreditScore'].median()\n",
    "x_train['CreditScore'].fillna(credit_score_median, inplace=True)\n",
    "\n",
    "credit_score_median2 = x_test['CreditScore'].median()\n",
    "x_test['CreditScore'].fillna(credit_score_median2, inplace=True)\n",
    "\n",
    "# Cek apakah masih ada missing value\n",
    "missing_values = x_train.isnull().sum()\n",
    "print(\"Missing values in x_train after imputation:\\n\", missing_values)\n",
    "missing_values2 = x_test.isnull().sum()\n",
    "print(\"Missing values in x_test after imputation:\\n\", missing_values2)"
   ]
  },
  {
   "cell_type": "code",
   "execution_count": 122,
   "id": "96610592",
   "metadata": {},
   "outputs": [
    {
     "name": "stdout",
     "output_type": "stream",
     "text": [
      "<class 'pandas.core.frame.DataFrame'>\n",
      "Int64Index: 33007 entries, 23629 to 15795\n",
      "Data columns (total 10 columns):\n",
      " #   Column           Non-Null Count  Dtype  \n",
      "---  ------           --------------  -----  \n",
      " 0   CreditScore      33007 non-null  float64\n",
      " 1   Geography        33007 non-null  object \n",
      " 2   Gender           33007 non-null  object \n",
      " 3   Age              33007 non-null  float64\n",
      " 4   Tenure           33007 non-null  int64  \n",
      " 5   Balance          33007 non-null  float64\n",
      " 6   NumOfProducts    33007 non-null  int64  \n",
      " 7   HasCrCard        33007 non-null  int64  \n",
      " 8   IsActiveMember   33007 non-null  int64  \n",
      " 9   EstimatedSalary  33007 non-null  float64\n",
      "dtypes: float64(4), int64(4), object(2)\n",
      "memory usage: 2.8+ MB\n"
     ]
    }
   ],
   "source": [
    "x_train.info()"
   ]
  },
  {
   "cell_type": "code",
   "execution_count": 76,
   "id": "dc5e3100",
   "metadata": {},
   "outputs": [
    {
     "name": "stdout",
     "output_type": "stream",
     "text": [
      "<class 'pandas.core.frame.DataFrame'>\n",
      "Int64Index: 8252 entries, 37555 to 28662\n",
      "Data columns (total 10 columns):\n",
      " #   Column           Non-Null Count  Dtype  \n",
      "---  ------           --------------  -----  \n",
      " 0   CreditScore      8252 non-null   float64\n",
      " 1   Geography        8252 non-null   object \n",
      " 2   Gender           8252 non-null   object \n",
      " 3   Age              8252 non-null   float64\n",
      " 4   Tenure           8252 non-null   int64  \n",
      " 5   Balance          8252 non-null   float64\n",
      " 6   NumOfProducts    8252 non-null   int64  \n",
      " 7   HasCrCard        8252 non-null   int64  \n",
      " 8   IsActiveMember   8252 non-null   int64  \n",
      " 9   EstimatedSalary  8252 non-null   float64\n",
      "dtypes: float64(4), int64(4), object(2)\n",
      "memory usage: 709.2+ KB\n"
     ]
    }
   ],
   "source": [
    "x_test.info()"
   ]
  },
  {
   "cell_type": "markdown",
   "id": "0465b20a",
   "metadata": {},
   "source": [
    "Encoding categorical variable"
   ]
  },
  {
   "cell_type": "code",
   "execution_count": 64,
   "id": "d83e0205",
   "metadata": {
    "scrolled": true
   },
   "outputs": [
    {
     "data": {
      "text/plain": [
       "France     18909\n",
       "Spain       7167\n",
       "Germany     6931\n",
       "Name: Geography, dtype: int64"
      ]
     },
     "execution_count": 64,
     "metadata": {},
     "output_type": "execute_result"
    }
   ],
   "source": [
    "x_train['Geography'].value_counts()"
   ]
  },
  {
   "cell_type": "code",
   "execution_count": 66,
   "id": "c38d3700",
   "metadata": {},
   "outputs": [
    {
     "data": {
      "text/plain": [
       "Male      18688\n",
       "Female    14319\n",
       "Name: Gender, dtype: int64"
      ]
     },
     "execution_count": 66,
     "metadata": {},
     "output_type": "execute_result"
    }
   ],
   "source": [
    "x_train['Gender'].value_counts()"
   ]
  },
  {
   "cell_type": "code",
   "execution_count": 99,
   "id": "e9df8b8d",
   "metadata": {
    "scrolled": true
   },
   "outputs": [
    {
     "name": "stdout",
     "output_type": "stream",
     "text": [
      "Index(['CreditScore', 'Geography', 'Gender', 'Age', 'Tenure', 'Balance',\n",
      "       'NumOfProducts', 'HasCrCard', 'IsActiveMember', 'EstimatedSalary'],\n",
      "      dtype='object')\n"
     ]
    }
   ],
   "source": [
    "print(x_train.columns)\n"
   ]
  },
  {
   "cell_type": "code",
   "execution_count": 106,
   "id": "6b9ff7bd",
   "metadata": {},
   "outputs": [
    {
     "name": "stdout",
     "output_type": "stream",
     "text": [
      "       CreditScore   Age  Tenure    Balance  NumOfProducts  HasCrCard  \\\n",
      "23629        646.0  40.0       8  171740.69              1          1   \n",
      "6996         676.0  21.0      10   79340.95              1          0   \n",
      "26510        710.0  53.0       8       0.00              1          0   \n",
      "40020        613.0  45.0       7  104796.54              2          1   \n",
      "17668        589.0  63.0       3       0.00              2          1   \n",
      "...            ...   ...     ...        ...            ...        ...   \n",
      "6265         676.0  40.0       8       0.00              2          1   \n",
      "11284        661.0  34.0       8       0.00              2          1   \n",
      "38158        521.0  47.0       7       0.00              3          0   \n",
      "860          714.0  67.0       2       0.00              1          0   \n",
      "15795        574.0  29.0      10  115545.33              2          1   \n",
      "\n",
      "       IsActiveMember  EstimatedSalary  Geography_France  Geography_Germany  \\\n",
      "23629               0        121592.50                 0                  0   \n",
      "6996                1        161579.19                 1                  0   \n",
      "26510               0        168816.22                 1                  0   \n",
      "40020               0         80178.54                 0                  1   \n",
      "17668               1         77864.41                 0                  0   \n",
      "...               ...              ...               ...                ...   \n",
      "6265                0         86410.46                 1                  0   \n",
      "11284               0        185555.63                 1                  0   \n",
      "38158               0         83335.78                 1                  0   \n",
      "860                 1         86733.61                 1                  0   \n",
      "15795               1        148256.43                 0                  0   \n",
      "\n",
      "       Geography_Spain  Gender_Female  Gender_Male  \n",
      "23629                1              1            0  \n",
      "6996                 0              1            0  \n",
      "26510                0              1            0  \n",
      "40020                0              0            1  \n",
      "17668                1              0            1  \n",
      "...                ...            ...          ...  \n",
      "6265                 0              0            1  \n",
      "11284                0              1            0  \n",
      "38158                0              0            1  \n",
      "860                  0              0            1  \n",
      "15795                1              1            0  \n",
      "\n",
      "[33007 rows x 13 columns]\n"
     ]
    }
   ],
   "source": [
    "one_hot_train = pd.get_dummies(x_train, columns=['Geography','Gender'])\n",
    "print(one_hot_train)\n"
   ]
  },
  {
   "cell_type": "code",
   "execution_count": 109,
   "id": "be044fa0",
   "metadata": {},
   "outputs": [
    {
     "name": "stdout",
     "output_type": "stream",
     "text": [
      "       CreditScore   Age  Tenure    Balance  NumOfProducts  HasCrCard  \\\n",
      "37555        533.0  52.0       8  127545.56              2          0   \n",
      "4280         563.0  47.0       5  166526.26              2          0   \n",
      "36838        707.0  31.0       5  133686.46              2          1   \n",
      "39035        754.0  29.0       7       0.00              2          1   \n",
      "22201        586.0  33.0       1       0.00              2          1   \n",
      "...            ...   ...     ...        ...            ...        ...   \n",
      "3493         588.0  34.0       2  103929.43              1          1   \n",
      "29445        578.0  30.0       4       0.00              2          1   \n",
      "23582        600.0  43.0       9  110783.28              1          1   \n",
      "4036         625.0  51.0       2   79468.96              1          1   \n",
      "28662        635.0  64.0       4  120165.30              1          0   \n",
      "\n",
      "       IsActiveMember  EstimatedSalary  Geography_France  Geography_Germany  \\\n",
      "37555               0         79559.02                 0                  1   \n",
      "4280                0        176791.27                 0                  0   \n",
      "36838               1         12761.16                 0                  1   \n",
      "39035               0        145560.97                 1                  0   \n",
      "22201               0        141806.46                 1                  0   \n",
      "...               ...              ...               ...                ...   \n",
      "3493                1        155876.05                 0                  1   \n",
      "29445               1        163825.51                 1                  0   \n",
      "23582               0        142903.44                 1                  0   \n",
      "4036                1         84606.03                 1                  0   \n",
      "28662               1        103570.80                 0                  1   \n",
      "\n",
      "       Geography_Spain  Gender_Female  Gender_Male  \n",
      "37555                0              0            1  \n",
      "4280                 1              0            1  \n",
      "36838                0              0            1  \n",
      "39035                0              0            1  \n",
      "22201                0              0            1  \n",
      "...                ...            ...          ...  \n",
      "3493                 0              1            0  \n",
      "29445                0              1            0  \n",
      "23582                0              0            1  \n",
      "4036                 0              1            0  \n",
      "28662                0              1            0  \n",
      "\n",
      "[8252 rows x 13 columns]\n"
     ]
    }
   ],
   "source": [
    "one_hot_test = pd.get_dummies(x_test, columns=['Geography','Gender'])\n",
    "print(one_hot_test)\n"
   ]
  },
  {
   "cell_type": "code",
   "execution_count": 107,
   "id": "6b096335",
   "metadata": {},
   "outputs": [
    {
     "name": "stdout",
     "output_type": "stream",
     "text": [
      "<class 'pandas.core.frame.DataFrame'>\n",
      "Int64Index: 33007 entries, 23629 to 15795\n",
      "Data columns (total 13 columns):\n",
      " #   Column             Non-Null Count  Dtype  \n",
      "---  ------             --------------  -----  \n",
      " 0   CreditScore        33007 non-null  float64\n",
      " 1   Age                33007 non-null  float64\n",
      " 2   Tenure             33007 non-null  int64  \n",
      " 3   Balance            33007 non-null  float64\n",
      " 4   NumOfProducts      33007 non-null  int64  \n",
      " 5   HasCrCard          33007 non-null  int64  \n",
      " 6   IsActiveMember     33007 non-null  int64  \n",
      " 7   EstimatedSalary    33007 non-null  float64\n",
      " 8   Geography_France   33007 non-null  uint8  \n",
      " 9   Geography_Germany  33007 non-null  uint8  \n",
      " 10  Geography_Spain    33007 non-null  uint8  \n",
      " 11  Gender_Female      33007 non-null  uint8  \n",
      " 12  Gender_Male        33007 non-null  uint8  \n",
      "dtypes: float64(4), int64(4), uint8(5)\n",
      "memory usage: 2.4 MB\n"
     ]
    }
   ],
   "source": [
    "one_hot_train.info()"
   ]
  },
  {
   "cell_type": "code",
   "execution_count": 108,
   "id": "3dddead2",
   "metadata": {},
   "outputs": [
    {
     "data": {
      "text/plain": [
       "CreditScore          0\n",
       "Age                  0\n",
       "Tenure               0\n",
       "Balance              0\n",
       "NumOfProducts        0\n",
       "HasCrCard            0\n",
       "IsActiveMember       0\n",
       "EstimatedSalary      0\n",
       "Geography_France     0\n",
       "Geography_Germany    0\n",
       "Geography_Spain      0\n",
       "Gender_Female        0\n",
       "Gender_Male          0\n",
       "dtype: int64"
      ]
     },
     "execution_count": 108,
     "metadata": {},
     "output_type": "execute_result"
    }
   ],
   "source": [
    "one_hot_train.isnull().sum()"
   ]
  },
  {
   "cell_type": "code",
   "execution_count": 110,
   "id": "1258937a",
   "metadata": {},
   "outputs": [
    {
     "name": "stdout",
     "output_type": "stream",
     "text": [
      "<class 'pandas.core.frame.DataFrame'>\n",
      "Int64Index: 8252 entries, 37555 to 28662\n",
      "Data columns (total 13 columns):\n",
      " #   Column             Non-Null Count  Dtype  \n",
      "---  ------             --------------  -----  \n",
      " 0   CreditScore        8252 non-null   float64\n",
      " 1   Age                8252 non-null   float64\n",
      " 2   Tenure             8252 non-null   int64  \n",
      " 3   Balance            8252 non-null   float64\n",
      " 4   NumOfProducts      8252 non-null   int64  \n",
      " 5   HasCrCard          8252 non-null   int64  \n",
      " 6   IsActiveMember     8252 non-null   int64  \n",
      " 7   EstimatedSalary    8252 non-null   float64\n",
      " 8   Geography_France   8252 non-null   uint8  \n",
      " 9   Geography_Germany  8252 non-null   uint8  \n",
      " 10  Geography_Spain    8252 non-null   uint8  \n",
      " 11  Gender_Female      8252 non-null   uint8  \n",
      " 12  Gender_Male        8252 non-null   uint8  \n",
      "dtypes: float64(4), int64(4), uint8(5)\n",
      "memory usage: 620.5 KB\n"
     ]
    }
   ],
   "source": [
    "one_hot_test.info()"
   ]
  },
  {
   "cell_type": "code",
   "execution_count": 111,
   "id": "56737cd1",
   "metadata": {},
   "outputs": [
    {
     "data": {
      "text/plain": [
       "CreditScore          0\n",
       "Age                  0\n",
       "Tenure               0\n",
       "Balance              0\n",
       "NumOfProducts        0\n",
       "HasCrCard            0\n",
       "IsActiveMember       0\n",
       "EstimatedSalary      0\n",
       "Geography_France     0\n",
       "Geography_Germany    0\n",
       "Geography_Spain      0\n",
       "Gender_Female        0\n",
       "Gender_Male          0\n",
       "dtype: int64"
      ]
     },
     "execution_count": 111,
     "metadata": {},
     "output_type": "execute_result"
    }
   ],
   "source": [
    "one_hot_train.isnull().sum()"
   ]
  },
  {
   "cell_type": "markdown",
   "id": "f8664ff6",
   "metadata": {},
   "source": [
    "RANDOM FOREST"
   ]
  },
  {
   "cell_type": "code",
   "execution_count": 113,
   "id": "c990b37c",
   "metadata": {},
   "outputs": [
    {
     "data": {
      "text/plain": [
       "RandomForestClassifier(max_depth=4)"
      ]
     },
     "execution_count": 113,
     "metadata": {},
     "output_type": "execute_result"
    }
   ],
   "source": [
    "from sklearn.ensemble import RandomForestClassifier\n",
    "import warnings\n",
    "warnings.filterwarnings('ignore')\n",
    "\n",
    "RF_class = RandomForestClassifier(criterion= 'gini',max_depth=4)\n",
    "RF_class.fit(one_hot_train, y_train)\n"
   ]
  },
  {
   "cell_type": "code",
   "execution_count": 114,
   "id": "e58090b1",
   "metadata": {},
   "outputs": [],
   "source": [
    "y_predict=RF_class.predict(one_hot_test)"
   ]
  },
  {
   "cell_type": "code",
   "execution_count": 115,
   "id": "73530f7f",
   "metadata": {
    "scrolled": true
   },
   "outputs": [
    {
     "name": "stdout",
     "output_type": "stream",
     "text": [
      "\n",
      "Classification Report\n",
      "\n",
      "              precision    recall  f1-score   support\n",
      "\n",
      "           0       0.84      0.98      0.90      6486\n",
      "           1       0.84      0.30      0.44      1766\n",
      "\n",
      "    accuracy                           0.84      8252\n",
      "   macro avg       0.84      0.64      0.67      8252\n",
      "weighted avg       0.84      0.84      0.80      8252\n",
      "\n"
     ]
    }
   ],
   "source": [
    "from sklearn.metrics import classification_report\n",
    "print('\\nClassification Report\\n')\n",
    "print(classification_report(y_test, y_predict, target_names=['0','1']))"
   ]
  },
  {
   "cell_type": "markdown",
   "id": "f01c650b",
   "metadata": {},
   "source": [
    "Xgboost"
   ]
  },
  {
   "cell_type": "code",
   "execution_count": 136,
   "id": "6bf270bf",
   "metadata": {},
   "outputs": [
    {
     "name": "stdout",
     "output_type": "stream",
     "text": [
      "Akurasi: 0.859428017450315\n"
     ]
    }
   ],
   "source": [
    "import xgboost as xgb\n",
    "from sklearn.metrics import accuracy_score\n",
    "model = xgb.XGBClassifier()\n",
    "\n",
    "model.fit(one_hot_train, y_train)\n",
    "y_pred = model.predict(one_hot_test)\n",
    "\n",
    "accuracy = accuracy_score(y_test, y_pred)\n",
    "print(\"Akurasi:\", accuracy)"
   ]
  },
  {
   "cell_type": "code",
   "execution_count": 137,
   "id": "e35cffb0",
   "metadata": {
    "scrolled": true
   },
   "outputs": [
    {
     "name": "stdout",
     "output_type": "stream",
     "text": [
      "              precision    recall  f1-score   support\n",
      "\n",
      "           0       0.89      0.94      0.91      6486\n",
      "           1       0.72      0.55      0.63      1766\n",
      "\n",
      "    accuracy                           0.86      8252\n",
      "   macro avg       0.81      0.75      0.77      8252\n",
      "weighted avg       0.85      0.86      0.85      8252\n",
      "\n"
     ]
    }
   ],
   "source": [
    "print(classification_report(y_test, y_pred, target_names=['0','1']))"
   ]
  },
  {
   "cell_type": "markdown",
   "id": "f7d1e808",
   "metadata": {},
   "source": [
    "dari hasil ini, saya memutuskan untuk menggunakan Xgboost"
   ]
  },
  {
   "cell_type": "code",
   "execution_count": 138,
   "id": "e3e53721",
   "metadata": {},
   "outputs": [],
   "source": [
    "import pickle as pkl\n",
    "filename = 'Xgboost_class.pkl'\n",
    "pkl.dump(model, open(filename, 'wb'))"
   ]
  },
  {
   "cell_type": "code",
   "execution_count": 139,
   "id": "6b35f084",
   "metadata": {},
   "outputs": [
    {
     "name": "stdout",
     "output_type": "stream",
     "text": [
      "XGBClassifier(base_score=None, booster=None, callbacks=None,\n",
      "              colsample_bylevel=None, colsample_bynode=None,\n",
      "              colsample_bytree=None, device=None, early_stopping_rounds=None,\n",
      "              enable_categorical=False, eval_metric=None, feature_types=None,\n",
      "              gamma=None, grow_policy=None, importance_type=None,\n",
      "              interaction_constraints=None, learning_rate=None, max_bin=None,\n",
      "              max_cat_threshold=None, max_cat_to_onehot=None,\n",
      "              max_delta_step=None, max_depth=None, max_leaves=None,\n",
      "              min_child_weight=None, missing=nan, monotone_constraints=None,\n",
      "              multi_strategy=None, n_estimators=None, n_jobs=None,\n",
      "              num_parallel_tree=None, random_state=None, ...)\n"
     ]
    }
   ],
   "source": [
    "import pickle as pkl\n",
    "\n",
    "filename = 'Xgboost_class.pkl'\n",
    "with open(filename, 'rb') as file:\n",
    "    loaded_model = pkl.load(file)\n",
    "\n",
    "print(loaded_model)\n"
   ]
  }
 ],
 "metadata": {
  "kernelspec": {
   "display_name": "Python 3 (ipykernel)",
   "language": "python",
   "name": "python3"
  },
  "language_info": {
   "codemirror_mode": {
    "name": "ipython",
    "version": 3
   },
   "file_extension": ".py",
   "mimetype": "text/x-python",
   "name": "python",
   "nbconvert_exporter": "python",
   "pygments_lexer": "ipython3",
   "version": "3.9.12"
  }
 },
 "nbformat": 4,
 "nbformat_minor": 5
}
